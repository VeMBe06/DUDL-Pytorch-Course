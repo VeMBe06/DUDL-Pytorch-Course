{
 "nbformat": 4,
 "nbformat_minor": 0,
 "metadata": {
  "colab": {
   "provenance": [
    {
     "file_id": "1oDaogKfz9gQYSAyQT-uF9xRI3EdrtokO",
     "timestamp": 1618209287295
    }
   ],
   "authorship_tag": "ABX9TyMRoL9KQhvp4fYI9oP/TtpK"
  },
  "kernelspec": {
   "name": "python3",
   "display_name": "Python 3"
  },
  "language_info": {
   "name": "python"
  }
 },
 "cells": [
  {
   "cell_type": "markdown",
   "metadata": {
    "id": "bhWV8oes-wKR"
   },
   "source": [
    "# COURSE: A deep understanding of deep learning\n",
    "## SECTION: Math prerequisites\n",
    "### LECTURE: Entropy and cross-entropy\n",
    "#### TEACHER: Mike X Cohen, sincxpress.com\n",
    "##### COURSE URL: udemy.com/course/deeplearning_x/?couponCode=202305"
   ]
  },
  {
   "cell_type": "code",
   "metadata": {
    "id": "2TD8IyfBGXiY",
    "executionInfo": {
     "status": "ok",
     "timestamp": 1677542935528,
     "user_tz": -540,
     "elapsed": 2,
     "user": {
      "displayName": "Mike X Cohen",
      "userId": "13901636194183843661"
     }
    }
   },
   "source": [
    "# import libraries\n",
    "import numpy as np\n",
    "import matplotlib.pyplot as plt"
   ],
   "execution_count": 1,
   "outputs": []
  },
  {
   "cell_type": "markdown",
   "metadata": {
    "id": "yo63BJPf0cau"
   },
   "source": [
    "# Reminder of entropy:\n",
    "\n",
    "$$H(p) = -\\sum_x p(x)\\log(p(x))$$"
   ]
  },
  {
   "cell_type": "code",
   "metadata": {
    "id": "vmjUxlEqGbDu"
   },
   "source": [
    "# probability of an event happening\n",
    "p = .25\n",
    "\n",
    "# NOT the correct formula!\n",
    "H = -( p*np.log(p) )\n",
    "print('Wrong entropy: ' + str(H))"
   ],
   "execution_count": null,
   "outputs": []
  },
  {
   "cell_type": "code",
   "metadata": {
    "id": "WL6yAAJk0SZC"
   },
   "source": [],
   "execution_count": null,
   "outputs": []
  },
  {
   "cell_type": "code",
   "metadata": {
    "id": "2JE3INKL0Szc"
   },
   "source": [],
   "execution_count": null,
   "outputs": []
  },
  {
   "cell_type": "code",
   "metadata": {
    "id": "NV5_WneW0S2k"
   },
   "source": [],
   "execution_count": null,
   "outputs": []
  },
  {
   "cell_type": "code",
   "metadata": {
    "id": "_8pZYN4z0S5T"
   },
   "source": [],
   "execution_count": null,
   "outputs": []
  },
  {
   "cell_type": "code",
   "metadata": {
    "id": "7D6LprL20S71"
   },
   "source": [],
   "execution_count": null,
   "outputs": []
  },
  {
   "cell_type": "code",
   "metadata": {
    "id": "DiyzAfoq0S-s"
   },
   "source": [],
   "execution_count": null,
   "outputs": []
  },
  {
   "cell_type": "code",
   "metadata": {
    "id": "Rl41Ieah0TBh"
   },
   "source": [],
   "execution_count": null,
   "outputs": []
  },
  {
   "cell_type": "code",
   "metadata": {
    "id": "KDR3mWC50TEG"
   },
   "source": [],
   "execution_count": null,
   "outputs": []
  },
  {
   "cell_type": "code",
   "metadata": {
    "id": "kkJphZBo0TGw"
   },
   "source": [],
   "execution_count": null,
   "outputs": []
  },
  {
   "cell_type": "code",
   "metadata": {
    "id": "WHx3wf4Y0TJH"
   },
   "source": [],
   "execution_count": null,
   "outputs": []
  },
  {
   "cell_type": "code",
   "metadata": {
    "id": "HdZadwd12RGv",
    "colab": {
     "base_uri": "https://localhost:8080/"
    },
    "executionInfo": {
     "status": "ok",
     "timestamp": 1677542940289,
     "user_tz": -540,
     "elapsed": 508,
     "user": {
      "displayName": "Mike X Cohen",
      "userId": "13901636194183843661"
     }
    },
    "outputId": "0119a84d-9f89-4bdd-8bc9-7a7516f4e542"
   },
   "source": [
    "# the correct way to compute entropy\n",
    "x = [.25,.75]\n",
    "\n",
    "H = 0\n",
    "for p in x:\n",
    "  H -= p*np.log(p)\n",
    "\n",
    "print('Correct entropy: ' + str(H))"
   ],
   "execution_count": 2,
   "outputs": [
    {
     "output_type": "stream",
     "name": "stdout",
     "text": [
      "Correct entropy: 0.5623351446188083\n"
     ]
    }
   ]
  },
  {
   "cell_type": "code",
   "metadata": {
    "id": "R_bGT7kd2ipR",
    "colab": {
     "base_uri": "https://localhost:8080/"
    },
    "executionInfo": {
     "status": "ok",
     "timestamp": 1677542941784,
     "user_tz": -540,
     "elapsed": 6,
     "user": {
      "displayName": "Mike X Cohen",
      "userId": "13901636194183843661"
     }
    },
    "outputId": "b5ffb90e-f297-4109-d15b-0e3f2eb73053"
   },
   "source": [
    "# also correct, written out for N=2 events\n",
    "H = -( p*np.log(p) + (1-p)*np.log(1-p) )\n",
    "print('Correct entropy: ' + str(H))"
   ],
   "execution_count": 3,
   "outputs": [
    {
     "output_type": "stream",
     "name": "stdout",
     "text": [
      "Correct entropy: 0.5623351446188083\n"
     ]
    }
   ]
  },
  {
   "cell_type": "markdown",
   "metadata": {
    "id": "qFN5779d1ebD"
   },
   "source": [
    "# Cross-entropy"
   ]
  },
  {
   "cell_type": "code",
   "metadata": {
    "id": "sOug_tPzHY1y",
    "colab": {
     "base_uri": "https://localhost:8080/"
    },
    "executionInfo": {
     "status": "ok",
     "timestamp": 1677542945693,
     "user_tz": -540,
     "elapsed": 5,
     "user": {
      "displayName": "Mike X Cohen",
      "userId": "13901636194183843661"
     }
    },
    "outputId": "1c9ad4d1-197a-4067-8f10-5fb729f753fd"
   },
   "source": [
    "# note: all probs must sum to 1!\n",
    "p = [   1,0   ] # sum=1\n",
    "q = [ .25,.75 ] # sum=1\n",
    "\n",
    "H = 0\n",
    "for i in range(len(p)):\n",
    "  H -= p[i]*np.log(q[i])\n",
    "\n",
    "print('Cross entropy: ' + str(H))"
   ],
   "execution_count": 4,
   "outputs": [
    {
     "output_type": "stream",
     "name": "stdout",
     "text": [
      "Cross entropy: 1.3862943611198906\n"
     ]
    }
   ]
  },
  {
   "cell_type": "code",
   "metadata": {
    "id": "8H1p7JUr3Pn4",
    "colab": {
     "base_uri": "https://localhost:8080/"
    },
    "executionInfo": {
     "status": "ok",
     "timestamp": 1677542948314,
     "user_tz": -540,
     "elapsed": 351,
     "user": {
      "displayName": "Mike X Cohen",
      "userId": "13901636194183843661"
     }
    },
    "outputId": "752a3dc6-18ba-4200-e99f-6dcf39638f45"
   },
   "source": [
    "# also correct, written out for N=2 events\n",
    "H = -( p[0]*np.log(q[0]) + p[1]*np.log(q[1]) )\n",
    "print('Correct entropy: ' + str(H))\n",
    "\n",
    "# simplification\n",
    "H = -np.log(q[0])\n",
    "print('Manually simplified: ' + str(H))"
   ],
   "execution_count": 5,
   "outputs": [
    {
     "output_type": "stream",
     "name": "stdout",
     "text": [
      "Correct entropy: 1.3862943611198906\n",
      "Manually simplified: 1.3862943611198906\n"
     ]
    }
   ]
  },
  {
   "cell_type": "code",
   "metadata": {
    "id": "fAHoba2V4QgO"
   },
   "source": [
    "# now using pytorch\n",
    "import torch\n",
    "import torch.nn.functional as F\n",
    "\n",
    "# note: inputs must be Tensors\n",
    "q_tensor = torch.Tensor(q)\n",
    "p_tensor = torch.Tensor(p)\n",
    "\n",
    "F.binary_cross_entropy(p,q)"
   ],
   "execution_count": null,
   "outputs": []
  }
 ]
}